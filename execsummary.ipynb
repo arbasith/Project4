{
 "cells": [
  {
   "cell_type": "markdown",
   "metadata": {},
   "source": [
    "# Executive Summary in relation to Project 4"
   ]
  },
  {
   "cell_type": "markdown",
   "metadata": {},
   "source": [
    "## 1) Goals:\n",
    "### The goals of this project were to i) identify features within job listings that may act as predictors for job salaries and ii) identity features which may help to distinguish between job titles of different seniority"
   ]
  },
  {
   "cell_type": "markdown",
   "metadata": {},
   "source": [
    "## 2) Methodology:\n",
    "### Part (i):\n",
    "### 'Data' related job postings were scraped from 'mycareersfuture.sg'. The data was split into job postings with and without prospective salaries, and the postings with indicative salaries were further split into 4 categories. Based on the other job related attributes indicated on the site (including role/responsibility, requirements, title), classification models were built with the aim of predicting the prospective salary. The best model was applied to the jobs without salary information to obtain indicative salary predictions.\n",
    "### Part (ii):\n",
    "### 'Data' related job postings were scraped from 'jobscentral.sg' and split into train and test subsets. Using the most recurring words within the job titles listed, the top three words associated with relative seniority were selected. Based on the job description, classification models were built with the aim of identifying features within the job description which would help distinguish between jobs of different levels of seniority."
   ]
  },
  {
   "cell_type": "markdown",
   "metadata": {},
   "source": [
    "## 3) Findings:\n",
    "### Part (i):\n",
    "### Logistic Regression using the text in the 'Requirements' and 'Roles & Responsibilities' sections as predictors produced the model with highest accuracy. The final model had an accuracy of 53.6%, nearly twice the base accuracy of predicting the right salary category by chance. Key terms within the descriptions which were found to have high predictive power include the following: \n",
    "### Experience, Skills, Business, Data, Good.\n",
    "### Part (ii):\n",
    "### The terms Senior, Assistant and Executive were selected for further investigation, with Assistant being used in the final model. The final logistic regression model had an accuracy of 75.8%, a significant improvement from the base accuracy of 50%. Key terms associated with jobs at the Assistant and Non-Assistant level were found to be as follows: \n",
    "### Assistant - Email, Duties, Administrative\n",
    "### Non-Assistant - Culture, Human Resources, Programmes"
   ]
  },
  {
   "cell_type": "markdown",
   "metadata": {},
   "source": [
    "## 4) Limitations and Further Follow-Ups:\n",
    "\n",
    "\n",
    "### Limitations:\n",
    "### - Data acquired from job sites were not standardised (ie choice of words across different postings), and finding a significant enough number of postings to normalise data was challenging\n",
    "### - For certain job roles and titles, the number of postings available was insufficient in order to draw meaningful categorical conclusions\n",
    "\n",
    "\n",
    "### Potential Follow-Ups:\n",
    "### - More effort can be spent to prepare and clean the data, as this will reduce the level of noise in the modelling\n",
    "### - Job postings from a bigger job market can be considered, as the larger sample size will allow for more specific titles and roles to be studied better"
   ]
  },
  {
   "cell_type": "markdown",
   "metadata": {},
   "source": [
    "## 5) Conclusion:\n",
    "\n",
    "### This study proved that information indicated as part of job listings (such as description of role and responsibilities) can have predictive powers in determining job attributes such as salary and seniority, though with differing levels of success. For more meaningful results, it would be worthwhile to repeat of this project using a wider pool of job postings, and with greater emphasis on cleaning up and standardising the textual data prior to the modelling.\n"
   ]
  },
  {
   "cell_type": "code",
   "execution_count": null,
   "metadata": {},
   "outputs": [],
   "source": []
  }
 ],
 "metadata": {
  "kernelspec": {
   "display_name": "Python 2",
   "language": "python",
   "name": "python2"
  },
  "language_info": {
   "codemirror_mode": {
    "name": "ipython",
    "version": 2
   },
   "file_extension": ".py",
   "mimetype": "text/x-python",
   "name": "python",
   "nbconvert_exporter": "python",
   "pygments_lexer": "ipython2",
   "version": "2.7.14"
  }
 },
 "nbformat": 4,
 "nbformat_minor": 2
}
